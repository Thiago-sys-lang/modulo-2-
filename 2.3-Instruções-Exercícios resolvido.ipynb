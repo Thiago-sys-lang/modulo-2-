{
  "cells": [
    {
      "cell_type": "markdown",
      "metadata": {
        "id": "1pCTdOHonv5f"
      },
      "source": [
        "# Módulo 2\n",
        "\n",
        "## 2.3 Instruções e Expressões\n",
        "\n",
        "### Q1\n",
        "\n",
        "Faça um programa que armazene o valor de 20 reais de salário por hora de um trabalhador, e o número de 40 horas trabalhadas na semana. Com essas informações, calcule e imprima:\n",
        "- Salário semanal bruto\n",
        "- Valor descontado por semana INSS (10% do bruto)\n",
        "- Valor descontado por semana pelo sindicato (5% do bruto)\n",
        "- Salário semanal líquido (Bruto - Descontos)"
      ]
    },
    {
      "cell_type": "code",
      "execution_count": null,
      "metadata": {
        "id": "hVbX0I97nj6M"
      },
      "outputs": [],
      "source": [
        "\n",
        "valor_salario_por_hora = 20\n",
        "horas_trabalhadas_por_semana = 40\n",
        "percentual_inss = 0.10\n",
        "percentual_sindicato = 0.05\n",
        "\n",
        "salario_bruto_semanal = valor_salario_por_hora * horas_trabalhadas_por_semana\n",
        "\n",
        "desconto_inss = salario_bruto_semanal * percentual_inss\n",
        "desconto_sindicato = salario_bruto_semanal * percentual_sindicato\n",
        "\n",
        "salario_liquido_semanal = salario_bruto_semanal - desconto_inss - desconto_sindicato\n",
        "\n",
        "print(f\"Salário Semanal Bruto: R${salario_bruto_semanal:.2f}\")\n",
        "print(f\"Desconto INSS: R${desconto_inss:.2f}\")\n",
        "print(f\"Desconto Sindicato: R${desconto_sindicato:.2f}\")\n",
        "print(f\"Salário Semanal Líquido: R${salario_liquido_semanal:.2f}\")\n"
      ]
    },
    {
      "cell_type": "markdown",
      "metadata": {
        "id": "pIxKX9J2oGZ1"
      },
      "source": [
        "### Q2\n",
        "\n",
        "Altere o programa anterior para a partir dos valores de horas trabalhadas por semana e salário por hora, calcular **em somente duas instruções**:\n",
        "- Salário semanal bruto\n",
        "- Salário semanal líquido com todos os descontos. Para a segunda instrução, realize todos os cálculos aritméticos em uma expressão composta.\n"
      ]
    },
    {
      "cell_type": "code",
      "execution_count": null,
      "metadata": {
        "id": "pAHw9Xf9oGoi"
      },
      "outputs": [],
      "source": [
        "\n",
        "horas_trabalhadas_por_semana = 40\n",
        "valor_salario_por_hora = 20\n",
        "percentual_inss = 0.10\n",
        "percentual_sindicato = 0.05\n",
        "\n",
        "salario_bruto_semanal, salario_liquido_semanal = (\n",
        "    (valor_salario_por_hora * horas_trabalhadas_por_semana),\n",
        "    (valor_salario_por_hora * horas_trabalhadas_por_semana) - \n",
        "    (valor_salario_por_hora * horas_trabalhadas_por_semana * percentual_inss) - \n",
        "    (valor_salario_por_hora * horas_trabalhadas_por_semana * percentual_sindicato)\n",
        ")\n",
        "\n",
        "print(f\"Salário Semanal Bruto: R${salario_bruto_semanal:.2f}\")\n",
        "print(f\"Salário Semanal Líquido: R${salario_liquido_semanal:.2f}\")\n"
      ]
    },
    {
      "cell_type": "markdown",
      "metadata": {
        "id": "m8tlHRuWpBOB"
      },
      "source": [
        "### Q3\n",
        "\n",
        "Você está desenvolvendo um software de conversão de moeda e precisa calcular o valor equivalente em yuan chinês a partir de uma quantia em real. A taxa de câmbio é de 0.69 BRL (real) para 1 CNY (yuan). Escreva um programa que define em uma variável uma quantia em reais (BRL) e calcula o valor equivalente em yuan (CNY). Imprima o resultado."
      ]
    },
    {
      "cell_type": "code",
      "execution_count": null,
      "metadata": {
        "id": "2bPw7uF6oeL9"
      },
      "outputs": [],
      "source": [
        "def converter_real_para_yuan(quantia_em_reais):\n",
        "    taxa_cambio = 0.69\n",
        "    quantia_em_yuan = quantia_em_reais * taxa_cambio\n",
        "    return quantia_em_yuan\n",
        "\n",
        "quantia_em_reais_q4 = 150.50\n",
        "resultado_q4 = converter_real_para_yuan(quantia_em_reais_q4)\n",
        "print(f\"O valor equivalente em yuan é: {resultado_q4:.2f} CNY\")\n"
      ]
    },
    {
      "cell_type": "markdown",
      "metadata": {
        "id": "-Na3ltDCp74A"
      },
      "source": [
        "### Q4\n",
        "\n",
        "Você é um treinador de corrida e deseja calcular a velocidade média que um atleta precisa manter para completar a Maratona Internacional de São Silvestre, que tem uma distância total de 42.195 km. A fórmula para calcular a velocidade média ($v\\_media$) é dada por $v\\_media = \\frac{distancia}{tempo}$ . Escreva um programa em Python para calcular a velocidade média necessária para completar a maratona em 3 horas.\n",
        "\n",
        "**Calcule e imprima o resultado em metros/segundo**, ou seja, converta a distância de quilômetros para metros ($metro = \\frac{km}{1000}$) e a velocidade de horas para segundos $(segundo = \\frac{hora}{3600})$."
      ]
    },
    {
      "cell_type": "code",
      "execution_count": null,
      "metadata": {
        "id": "Bn6l8kcSrE4L"
      },
      "outputs": [],
      "source": [
        "def calcular_velocidade_media(distancia_km, tempo_horas):\n",
        "    velocidade_media = distancia_km / tempo_horas\n",
        "    return velocidade_media\n",
        "\n",
        "distancia_maratona_km_q5 = 42.195\n",
        "tempo_horas_q5 = 3\n",
        "resultado_q5 = calcular_velocidade_media(distancia_maratona_km_q5, tempo_horas_q5)\n",
        "print(f\"A velocidade média necessária é: {resultado_q5:.2f} km/h\")\n",
        "\n"
      ]
    }
  ],
  "metadata": {
    "colab": {
      "provenance": []
    },
    "kernelspec": {
      "display_name": "Python 3",
      "name": "python3"
    },
    "language_info": {
      "name": "python"
    }
  },
  "nbformat": 4,
  "nbformat_minor": 0
}
